{
 "cells": [
  {
   "cell_type": "markdown",
   "metadata": {},
   "source": [
    "# Dia 2\n",
    "## Taller de Blockchain\n",
    "\n"
   ]
  },
  {
   "cell_type": "markdown",
   "metadata": {},
   "source": [
    "## Criptografia"
   ]
  },
  {
   "cell_type": "markdown",
   "metadata": {},
   "source": [
    "### HASH"
   ]
  },
  {
   "cell_type": "markdown",
   "metadata": {},
   "source": [
    "Primero importamos la funcion sha256 de la libreria hashlib. \n",
    "Creamos un mensaje cualquiera y lo hasheamos.\n",
    "Modificamos y hasheamos para ver el cambio, luego volvemos al mensaje original y vemos que el hash no varia."
   ]
  },
  {
   "cell_type": "code",
   "execution_count": 1,
   "metadata": {},
   "outputs": [
    {
     "name": "stdout",
     "output_type": "stream",
     "text": [
      "0a9b0d922ea756cabe9e6eb43fea5aba1e8500b9d36c37c5482240b83af1379e\n"
     ]
    }
   ],
   "source": [
    "from hashlib import sha256\n",
    "\n",
    "mensaje = \"Hola, que tal?\"\n",
    "hash = sha256(mensaje.encode()).hexdigest()\n",
    "print(hash)"
   ]
  },
  {
   "cell_type": "code",
   "execution_count": 2,
   "metadata": {},
   "outputs": [
    {
     "name": "stdout",
     "output_type": "stream",
     "text": [
      "4c6b7c49c16ecda271040485b7b5cf5b04e686d6bb01605ced55f18a4b13728f\n"
     ]
    }
   ],
   "source": [
    "mensaje = \"Hola, que tal? Bien.\"\n",
    "hash = sha256(mensaje.encode()).hexdigest()\n",
    "print(hash)"
   ]
  },
  {
   "cell_type": "code",
   "execution_count": 3,
   "metadata": {},
   "outputs": [
    {
     "name": "stdout",
     "output_type": "stream",
     "text": [
      "0a9b0d922ea756cabe9e6eb43fea5aba1e8500b9d36c37c5482240b83af1379e\n"
     ]
    }
   ],
   "source": [
    "mensaje = \"Hola, que tal?\"\n",
    "hash = sha256(mensaje.encode()).hexdigest()\n",
    "print(hash)"
   ]
  },
  {
   "cell_type": "markdown",
   "metadata": {},
   "source": [
    "### Challenge 1 \n",
    "\n",
    "Crear una funcion que reciba una palabra y te devuelva el Hash de la palabra.\n",
    "Ejecuta 3 veces la funcion de la siguiente manera:\n",
    "- La primera con una palabra\n",
    "- La segunda con un caracter diferente\n",
    "- La tercera igual que la primera\n",
    "Imprimir cada palabra con su hash y comparar.\n",
    "\n"
   ]
  },
  {
   "cell_type": "code",
   "execution_count": 2,
   "metadata": {},
   "outputs": [
    {
     "name": "stdout",
     "output_type": "stream",
     "text": [
      "Hola\n",
      "e633f4fc79badea1dc5db970cf397c8248bac47cc3acf9915ba60b5d76b0e88f\n",
      "hola\n",
      "b221d9dbb083a7f33428d7c2a3c3198ae925614d70210e28716ccaa7cd4ddb79\n",
      "Hola\n",
      "e633f4fc79badea1dc5db970cf397c8248bac47cc3acf9915ba60b5d76b0e88f\n"
     ]
    }
   ],
   "source": [
    "from hashlib import sha256\n",
    "\n",
    "for i in range(3):\n",
    "    palabra = input(\"Ingrese una palabra: \")\n",
    "    hash = sha256(palabra.encode()).hexdigest()\n",
    "    print(palabra)\n",
    "    print(hash)\n"
   ]
  },
  {
   "cell_type": "markdown",
   "metadata": {},
   "source": [
    "### Implementacion a la blockchain"
   ]
  },
  {
   "cell_type": "code",
   "execution_count": 4,
   "metadata": {},
   "outputs": [],
   "source": [
    "from hashlib import sha256\n",
    "from time import time\n",
    "import json\n",
    "\n",
    "class Bloque:\n",
    "    def __init__(self, index, transacciones,timestamp, hash_anterior):\n",
    "        self.index = index\n",
    "        self.transacciones = transacciones\n",
    "        self.timestamp = timestamp\n",
    "        self.hash_anterior = hash_anterior\n",
    "\n",
    "class Blockchain: \n",
    "    def __init__(self):\n",
    "        self.transacciones_pendientes = []\n",
    "        self.chain = []\n",
    "        self.crear_bloque_genesis()\n",
    "    \n",
    "    # Agregar el hash 0 al bloque genesis\n",
    "    def crear_bloque_genesis(self):\n",
    "        genesis_block = Bloque(0, [\"Genesis\"], time(), \"0\")\n",
    "        self.chain.append(genesis_block)\n",
    "    \n",
    "    @property\n",
    "    def last_block(self):\n",
    "        return self.chain[-1]\n",
    "\n",
    "    # Creamos la funcion de hasheo que cripte los bloques\n",
    "    # para poder usar la herramienta debemos convertir todo a strings usando \n",
    "    # la herramienta dumps de json, a su vez ordenamos todo.\n",
    "    @staticmethod\n",
    "    def criptar(bloque):\n",
    "        bloque_string = json.dumps(bloque.__dict__, sort_keys=True)\n",
    "        return sha256(bloque_string.encode()).hexdigest()\n",
    "    \n",
    "    def agregar_bloque(self, block):\n",
    "        self.chain.append(block)\n",
    "        return True\n",
    "    \n",
    "    def agregar_transaccion(self, transaction):\n",
    "                self.transacciones_pendientes.append(transaction)\n",
    "    \n",
    "    # Agregamos el hash del bloque anterior al bloque que se va a cerrar.\n",
    "    def cerrar_bloque(self):\n",
    "        if not self.transacciones_pendientes:\n",
    "            return False\n",
    "        ultimo_bloque = self.last_block\n",
    "        nuevo_bloque = Bloque(ultimo_bloque.index + 1, self.transacciones_pendientes, time(), self.criptar(ultimo_bloque))\n",
    "        self.agregar_bloque(nuevo_bloque)\n",
    "        self.transacciones_pendientes = []\n",
    "        return nuevo_bloque"
   ]
  },
  {
   "cell_type": "code",
   "execution_count": 12,
   "metadata": {},
   "outputs": [
    {
     "name": "stdout",
     "output_type": "stream",
     "text": [
      "Bloque 1\n",
      "{'index': 1, 'transacciones': ['Primer Mensaje', 'Segundo Mensaje'], 'timestamp': 1669913631.0535738, 'hash_anterior': 'a0a7fba707c87fcf76fa07355c4c09d129f230551f0240e9cf0edcaee7bb7d68'}\n",
      "Hash: \n",
      "c78329f19b13df30ec64df5fe9b63da368d47c52e55fa4eeb7720ee27590048c\n",
      "{'index': 0, 'transacciones': ['Genesis'], 'timestamp': 1669913631.05354, 'hash_anterior': '0'}\n",
      "{'index': 1, 'transacciones': ['Primer Mensaje', 'Segundo Mensaje'], 'timestamp': 1669913631.0535738, 'hash_anterior': 'a0a7fba707c87fcf76fa07355c4c09d129f230551f0240e9cf0edcaee7bb7d68'}\n",
      "{'index': 2, 'transacciones': ['Tercer Mensaje'], 'timestamp': 1669913631.053685, 'hash_anterior': 'c78329f19b13df30ec64df5fe9b63da368d47c52e55fa4eeb7720ee27590048c'}\n"
     ]
    }
   ],
   "source": [
    "bitcoin = Blockchain()\n",
    "\n",
    "bitcoin.agregar_transaccion('Primer Mensaje')\n",
    "bitcoin.agregar_transaccion('Segundo Mensaje')\n",
    "bitcoin.cerrar_bloque()\n",
    "\n",
    "print(\"Bloque 1\")\n",
    "print(bitcoin.chain[1].__dict__)\n",
    "a = bitcoin.criptar(bitcoin.chain[1])\n",
    "print(\"Hash: \")\n",
    "print(a)\n",
    "\n",
    "bitcoin.agregar_transaccion('Tercer Mensaje')\n",
    "bitcoin.cerrar_bloque()\n",
    "for i in bitcoin.chain:\n",
    "    print(i.__dict__)"
   ]
  },
  {
   "cell_type": "markdown",
   "metadata": {},
   "source": [
    "## Proof of Work\n",
    "### Nonce\n"
   ]
  },
  {
   "cell_type": "code",
   "execution_count": 50,
   "metadata": {},
   "outputs": [],
   "source": [
    "from hashlib import sha256\n",
    "from time import time\n",
    "import json\n",
    "\n",
    "class Bloque:\n",
    "    def __init__(self, index, transacciones,timestamp, hash_anterior, nonce=0):\n",
    "        self.index = index\n",
    "        \n",
    "        # Agregamos un nuevo atributo \n",
    "        self.nonce = nonce\n",
    "\n",
    "        self.transacciones = transacciones\n",
    "        # self.timestamp = timestamp\n",
    "        self.hash_anterior = hash_anterior\n",
    "\n",
    "    def criptar(self):\n",
    "        bloque_string = json.dumps(self.__dict__, sort_keys=True)\n",
    "        return sha256(bloque_string.encode()).hexdigest()\n",
    "\n",
    "        \n",
    "\n",
    "class Blockchain: \n",
    "    def __init__(self):\n",
    "        self.transacciones_pendientes = []\n",
    "        self.chain = []\n",
    "        self.crear_bloque_genesis()\n",
    "    \n",
    "    def crear_bloque_genesis(self):\n",
    "        genesis_block = Bloque(0, [\"Genesis\"], time(), 0)\n",
    "        genesis_block.hash = genesis_block.criptar()\n",
    "        self.chain.append(genesis_block)\n",
    "    \n",
    "    @property\n",
    "    def last_block(self):\n",
    "        return self.chain[-1]\n",
    "    \n",
    "    # Agregamos el hash que recibimos de la funcion proof_of_work \n",
    "    def agregar_bloque(self, bloque, proof):\n",
    "        # Almacenamos el hash anterior para verificar la validez\n",
    "        # previous_hash = self.last_block.hash\n",
    "        # if previous_hash != bloque.hash_anterior:\n",
    "        #     return False\n",
    "        \n",
    "        # Llamamos a nuestra funcion de validez\n",
    "        # if not self.es_valido(bloque, proof):\n",
    "        #     return False\n",
    "         \n",
    "        bloque.hash = proof\n",
    "        self.chain.append(bloque)\n",
    "        return True\n",
    "    \n",
    "    def agregar_transaccion(self, transaction):\n",
    "                self.transacciones_pendientes.append(transaction)\n",
    "    # Cambiamos el nombre de la funcion a minar\n",
    "    def minar(self):\n",
    "        if not self.transacciones_pendientes:\n",
    "            return False\n",
    "        ultimo_bloque = self.last_block\n",
    "        \n",
    "        nuevo_bloque = Bloque(ultimo_bloque.index + 1, self.transacciones_pendientes, time(), ultimo_bloque.hash)\n",
    "        # Agrego la prueba de trabajo a la funcion\n",
    "        proof = self.proof_of_work(nuevo_bloque)\n",
    "        \n",
    "        # Paso el proof para crear el nuevo bloque\n",
    "        self.agregar_bloque(nuevo_bloque, proof)\n",
    "        \n",
    "        self.transacciones_pendientes = []\n",
    "        return nuevo_bloque\n",
    "\n",
    "\n",
    "    # Agruegamos la dificultad a nuestra Blockchain\n",
    "    dificultad = 4\n",
    "    # Creamos la funcion proof of work\n",
    "    def proof_of_work(self, bloque):\n",
    "        # comenzamos con el nonce en 0\n",
    "        bloque.nonce = 0\n",
    "        # Criptamos el bloque para ver el hash\n",
    "        hash = bloque.criptar()\n",
    "        # Comparamos el hash del bloque ajustado a la dificultad\n",
    "        while not hash.startswith('0'* self.dificultad):\n",
    "            # Vamos incrementando el nonce hasta que el hash comience con \n",
    "            # la cantidad de ceros en la dificultad\n",
    "            bloque.nonce += 1\n",
    "\n",
    "            # Cripamos el bloque con el nuevo valor del nonce\n",
    "            hash = bloque.criptar()\n",
    "        return hash\n",
    "\n",
    "    # Creamos una funcion que devuelva la validez del bloque\n",
    "    # Verificando si el hash es correcto.\n",
    "    def es_valido(self, bloque, bloque_hash):\n",
    "        return (bloque_hash.startswith('0' * Blockchain.difficulty) and\n",
    "                bloque_hash == bloque.compute_hash())\n",
    "\n"
   ]
  },
  {
   "cell_type": "code",
   "execution_count": 45,
   "metadata": {},
   "outputs": [],
   "source": [
    "from hashlib import sha256\n",
    "import json\n",
    "\n",
    "class Block:\n",
    "    def __init__(self, index, transactions, timestamp, previous_hash, nonce=0):\n",
    "        self.index = index\n",
    "        self.transactions = transactions\n",
    "        self.timestamp = timestamp\n",
    "        self.previous_hash = previous_hash\n",
    "        self.nonce = nonce\n",
    "\n",
    "    def compute_hash(self):\n",
    "        block_string = json.dumps(self.__dict__, sort_keys=True)\n",
    "        return sha256(block_string.encode()).hexdigest()\n",
    "\n",
    "import time\n",
    "\n",
    "class Blockchain: \n",
    "    def __init__(self):\n",
    "        self.unconfirmed_transactions = []\n",
    "        self.chain = []\n",
    "        self.create_genesis_block()\n",
    " \n",
    "    def create_genesis_block(self):\n",
    "        genesis_block = Block(0, [], time.time(), \"0\")\n",
    "        genesis_block.hash = genesis_block.compute_hash()\n",
    "        self.chain.append(genesis_block)\n",
    "    @property\n",
    "    def last_block(self):\n",
    "        return self.chain[-1]\n",
    "    \n",
    "    difficulty = 2\n",
    "    def proof_of_work(self, block):\n",
    "        block.nonce = 0\n",
    "        computed_hash = block.compute_hash()\n",
    "        while not computed_hash.startswith('0' * Blockchain.difficulty):\n",
    "            block.nonce += 1\n",
    "            computed_hash = block.compute_hash()\n",
    "        return computed_hash\n",
    "    def add_block(self, block, proof):\n",
    "        previous_hash = self.last_block.hash\n",
    "        if previous_hash != block.previous_hash:\n",
    "            return False\n",
    "        if not self.is_valid_proof(block, proof):\n",
    "            return False\n",
    "        block.hash = proof\n",
    "        self.chain.append(block)\n",
    "        return True\n",
    " \n",
    "    def is_valid_proof(self, block, block_hash):\n",
    "        return (block_hash.startswith('0' * Blockchain.difficulty) and\n",
    "                block_hash == block.compute_hash())\n",
    "\n",
    "    def add_new_transaction(self, transaction):\n",
    "            self.unconfirmed_transactions.append(transaction)\n",
    " \n",
    "    def mine(self):\n",
    "        if not self.unconfirmed_transactions:\n",
    "            return False\n",
    " \n",
    "        last_block = self.last_block\n",
    " \n",
    "        new_block = Block(index=last_block.index + 1,\n",
    "                          transactions=self.unconfirmed_transactions,\n",
    "                          timestamp=time.time(),\n",
    "                          previous_hash=last_block.hash)\n",
    " \n",
    "        proof = self.proof_of_work(new_block)\n",
    "        self.add_block(new_block, proof)\n",
    "        self.unconfirmed_transactions = []\n",
    "        return new_block.index\n",
    "\n"
   ]
  },
  {
   "cell_type": "code",
   "execution_count": 51,
   "metadata": {},
   "outputs": [
    {
     "name": "stdout",
     "output_type": "stream",
     "text": [
      "{'index': 0, 'nonce': 0, 'transacciones': ['Genesis'], 'hash_anterior': 0, 'hash': '8dcc0c5c35c74b9502c0e8d948cfa6318f5552733f6b6af6d4b86143fae2ca5e'}\n",
      "{'index': 1, 'nonce': 45014, 'transacciones': ['Hola que tal?', 'tranquilopa'], 'hash_anterior': '8dcc0c5c35c74b9502c0e8d948cfa6318f5552733f6b6af6d4b86143fae2ca5e', 'hash': '00007bd06fe4d489406d7deb395368a58458b1cda5ea75e15346340a528d97d3'}\n",
      "{'index': 2, 'nonce': 10407, 'transacciones': ['tranquilopa'], 'hash_anterior': '00007bd06fe4d489406d7deb395368a58458b1cda5ea75e15346340a528d97d3', 'hash': '00009772fbeba9def06dd4eb6e3ab32a2271ddd65ecf297e4a3aaffc78780c15'}\n",
      "{'index': 3, 'nonce': 101980, 'transacciones': ['tranquilopa'], 'hash_anterior': '00009772fbeba9def06dd4eb6e3ab32a2271ddd65ecf297e4a3aaffc78780c15', 'hash': '000002deb2d2bfaefba891dff25d0fee32fce49b9f7424871a2973d881ef875d'}\n"
     ]
    }
   ],
   "source": [
    "blockchain = Blockchain()\n",
    "\n",
    "blockchain.agregar_transaccion(\"Hola que tal?\")\n",
    "blockchain.agregar_transaccion(\"tranquilopa\")\n",
    "blockchain.minar()\n",
    "blockchain.agregar_transaccion(\"tranquilopa\")\n",
    "blockchain.minar()\n",
    "blockchain.agregar_transaccion(\"tranquilopa\")\n",
    "blockchain.minar()\n",
    "\n",
    "for i in blockchain.chain:\n",
    "    print (i.__dict__)\n",
    "\n"
   ]
  }
 ],
 "metadata": {
  "kernelspec": {
   "display_name": "Python 3.10.6 64-bit",
   "language": "python",
   "name": "python3"
  },
  "language_info": {
   "codemirror_mode": {
    "name": "ipython",
    "version": 3
   },
   "file_extension": ".py",
   "mimetype": "text/x-python",
   "name": "python",
   "nbconvert_exporter": "python",
   "pygments_lexer": "ipython3",
   "version": "3.10.6"
  },
  "orig_nbformat": 4,
  "vscode": {
   "interpreter": {
    "hash": "b0fa6594d8f4cbf19f97940f81e996739fb7646882a419484c72d19e05852a7e"
   }
  }
 },
 "nbformat": 4,
 "nbformat_minor": 2
}
