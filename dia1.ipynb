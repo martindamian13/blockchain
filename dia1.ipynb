{
 "cells": [
  {
   "cell_type": "markdown",
   "metadata": {},
   "source": [
    "# Dia 1 - Fundamentos de Blockchain\n"
   ]
  },
  {
   "cell_type": "markdown",
   "metadata": {},
   "source": [
    "## Blockchain conceptos\n",
    "\n",
    "### Que entienden por Blockchain?\n",
    "\n",
    "## Blockchain?\n",
    "\n",
    "Es una forma de almacenamiento de informacion por bloques, que se almacena en una cadena, pero no se puede borrar.\n",
    "Propiedades de una Blockchain:\n",
    "\n",
    "- Secure: All records are individually encrypted.\n",
    "- Anonymous: The indentity of participants is either anonymous or pseudonymous.\n",
    "- Unanimous: All network participants agree to the validity of each of the records.\n",
    "- Time-Stamped: A transaction is timestamp recorded on a block.\n",
    "- Immutable: Any validated records are irreversible and cannot be changed.\n",
    "- Distributed: All network participants have a copy of the ledger for complete tranparency.\n",
    "\n",
    "### Bloque\n",
    "\n",
    "Es un conjunto de datos que se van agrupando para formar una cadena.\n",
    "\n",
    "### Transacciones\n",
    "\n",
    "Refiere a todo lo que contiene cada bloque, puede ser cualquier tipo de dato: Una frase, una palabra o una lista de datos. Por convencion cuando mencionamos la palabra nos referimos a el contenido \"Dato a almacenar\" de un bloque.\n",
    "\n",
    "### Cadena\n",
    "\n",
    "Es la conexion que se crea de bloque a bloque a traves del hash. El nuevo bloque tiene como componente el hash del bloque anterior, esto nos permite crear la \"cadena\" de bloques.\n",
    "\n",
    "### Hash\n",
    "\n",
    "Se trata de funciones que permiten cifrar de forma sencilla cualquier dato de entrada, generando un hash, que es un texto cifrado de una longitud fija. Las funciones hash tienen 3 propiedades importantes:\n",
    "- Obtener el dato original a partir del hash generado es prácticamente imposible.\n",
    "\n",
    "- Siempre se genera el mismo hash de salida para una entrada concreta, sin importar el número de veces que se ejecute la función.\n",
    "\n",
    "- Cualquier modificación en la entrada original genera un hash totalmente distinto.\n",
    "\n",
    "### Nonce\n",
    "\n",
    "El nonce o \"número de un solo uso\", es simplemente un número. Un número aleatorio y de características únicas que tiene como finalidad ser usado en sistemas criptográficos.\n",
    "\n",
    "### Timestamp\n",
    "\n",
    "El timestamp es una marca de tiempo, que se calcula según diferentes parámetros.\n",
    "El parámetro temporal o timestamp, se basa en un ajuste instantáneo que usa una mediana de las marcas de tiempo devueltas por todos los nodos de la red.\n",
    "\n",
    "### Nodos\n",
    "\n",
    "Un nodo es un ordenador conectado a otros ordenadores que sigue reglas y comparte información."
   ]
  },
  {
   "cell_type": "markdown",
   "metadata": {},
   "source": [
    "# Taller Blockchain"
   ]
  },
  {
   "cell_type": "markdown",
   "metadata": {},
   "source": [
    "## Bloque\n",
    "\n",
    "Como mencionabamos anteriormente un bloque seria basicamente un conjunto de datos agrupados. \n",
    "\n",
    "Para representar esto en Python lo haremos creando un objeto con atributos."
   ]
  },
  {
   "cell_type": "code",
   "execution_count": 2,
   "metadata": {},
   "outputs": [],
   "source": [
    "# Creamos un objeto llamado bloque\n",
    "class Bloque:\n",
    "    def __init__(self, index, transacciones,timestamp):\n",
    "        self.index = index\n",
    "        self.transacciones = transacciones\n",
    "        self.timestamp = timestamp"
   ]
  },
  {
   "cell_type": "markdown",
   "metadata": {},
   "source": [
    "La forma en la que podemos ver la funcionalidad de nuestro objeto es la siguiente:\n",
    "\n",
    "OBS: importamos la herramienta time de la libreria time"
   ]
  },
  {
   "cell_type": "code",
   "execution_count": 4,
   "metadata": {},
   "outputs": [
    {
     "name": "stdout",
     "output_type": "stream",
     "text": [
      "{'index': 1, 'transacciones': 'Hola, que tal?', 'timestamp': 1670349688.9640808}\n"
     ]
    }
   ],
   "source": [
    "from time import time\n",
    "bloque = Bloque(1, \"Hola, que tal?\", time())\n",
    "print(bloque.__dict__)"
   ]
  },
  {
   "cell_type": "markdown",
   "metadata": {},
   "source": [
    "### Challenge 1\n",
    "\n",
    "Crear un objeto Bloque que contenga:\n",
    "- Index: un numero que indica el id del bloque\n",
    "- Transaccion: el dato que queremos almacenar (una frase)\n",
    "- Timestamp: el tiempo en el que se crea el bloque\n",
    "\n",
    "OBS: La transaccion debe ser una lista con 3 datos diferentes.\n",
    "\n"
   ]
  },
  {
   "cell_type": "code",
   "execution_count": 9,
   "metadata": {},
   "outputs": [
    {
     "name": "stdout",
     "output_type": "stream",
     "text": [
      "{'index': 1, 'transacciones': ['Hola, que tal?', 'Todo bien, y usted?', 'Tranquipa arma'], 'timestamp': 1670350130.641872}\n"
     ]
    }
   ],
   "source": [
    "from time import time\n",
    "\n",
    "class Bloque:\n",
    "    def __init__(self, index, transacciones,timestamp):\n",
    "        self.index = index\n",
    "        self.transacciones = transacciones\n",
    "        self.timestamp = timestamp\n",
    "\n",
    "datos = [\"Hola, que tal?\", \"Todo bien, y usted?\", \"Tranquipa arma\"]\n",
    "\n",
    "bloque = Bloque(1, datos, time())\n",
    "\n",
    "print(bloque.__dict__)\n",
    "\n"
   ]
  },
  {
   "cell_type": "markdown",
   "metadata": {},
   "source": [
    "## Blockchain\n",
    "\n",
    "Ahora vamos a agrupar varios bloques creando una cadena de bloques. Para ello vamos a crear otro objeto llamado Blockchain. Debe tener los siguientes atributos iniciales:\n",
    "\n",
    "- Transacciones pendientes: Refiere a los datos a agregar en el bloque.\n",
    "- Cadena: Agrupa los bloques creados en una lista.\n",
    "\n"
   ]
  },
  {
   "cell_type": "code",
   "execution_count": null,
   "metadata": {},
   "outputs": [],
   "source": [
    "from time import time\n",
    "\n",
    "class Blockchain: \n",
    "    def __init__(self):\n",
    "        self.transacciones_pendientes = []\n",
    "        self.chain = []"
   ]
  },
  {
   "cell_type": "markdown",
   "metadata": {},
   "source": [
    "Para cerrar la cadena de bloques creamos las ultimas funciones."
   ]
  },
  {
   "cell_type": "code",
   "execution_count": 10,
   "metadata": {},
   "outputs": [],
   "source": [
    "from time import time\n",
    "\n",
    "class Blockchain: \n",
    "    def __init__(self):\n",
    "        self.transacciones_pendientes = []\n",
    "        self.chain = []\n",
    "        # Una vez creada la funcion pasamos a crear el bloque genesis.\n",
    "        self.crear_bloque_genesis()\n",
    "    \n",
    "    #Lo siguiente seria crear una funcion que nos permita crear el bloque genesis. \n",
    "    #Para llamarlo al iniciar la blockchain.\n",
    "    def crear_bloque_genesis(self):\n",
    "        genesis_block = Bloque(0, [\"Genesis\"], time())\n",
    "        self.chain.append(genesis_block)\n",
    "    \n",
    "    # Agregamos una propiedad a la cadena. \n",
    "    # Esta propiedad nos permite acceder al ultimo bloque\n",
    "    @property\n",
    "    def last_block(self):\n",
    "        return self.chain[-1]\n",
    "    \n",
    "    # Luego creamos una funcion que nos permita agregar bloques a la cadena\n",
    "    def agregar_bloque(self, block):\n",
    "        self.chain.append(block)\n",
    "        return True\n",
    "    \n",
    "    # Una funcion que agregue las transacciones al bloque que queremos agregar\n",
    "    def agregar_transaccion(self, transaction):\n",
    "                self.transacciones_pendientes.append(transaction)\n",
    "    \n",
    "    # Por ultimo lo que debemos hacer es cerrar un bloque, para ello creamos una funcion\n",
    "    # que cree un bloque con las transacciones pendientes y luego los agregue a la cadena de bloques.\n",
    "    def cerrar_bloque(self):\n",
    "        if not self.transacciones_pendientes:\n",
    "            return False\n",
    "        ultimo_bloque = self.last_block\n",
    "        nuevo_bloque = Bloque(ultimo_bloque.index + 1, self.transacciones_pendientes, time())\n",
    "        self.agregar_bloque(nuevo_bloque)\n",
    "        self.transacciones_pendientes = []\n",
    "        return nuevo_bloque.index"
   ]
  },
  {
   "cell_type": "code",
   "execution_count": 14,
   "metadata": {},
   "outputs": [
    {
     "name": "stdout",
     "output_type": "stream",
     "text": [
      "{'index': 0, 'transacciones': ['Genesis'], 'timestamp': 1670350223.9420319}\n",
      "{'index': 1, 'transacciones': ['Hola, que tal?', 'Tranquilopa kp'], 'timestamp': 1670350223.942066}\n"
     ]
    }
   ],
   "source": [
    "# Instanciamos la cadena.\n",
    "bitcoin = Blockchain()\n",
    "# Agregamos 2 transacciones.\n",
    "bitcoin.agregar_transaccion(\"Hola, que tal?\")\n",
    "bitcoin.agregar_transaccion(\"Tranquilopa kp\")\n",
    "# Por ultimo cerramos el bloque para agregarlo a la cadena.\n",
    "bitcoin.cerrar_bloque()\n",
    "\n",
    "# Iteramos para poder imprimir los bloques como diccionarios, ya que son objetos.\n",
    "for i in range(len(bitcoin.chain)):\n",
    "    print(bitcoin.chain[i].__dict__)"
   ]
  },
  {
   "cell_type": "markdown",
   "metadata": {},
   "source": [
    "### Challenge 2\n",
    "\n",
    "Crear una blockchain donde el primer bloque debe almacenar tu nombre, el segundo bloque debe almacenar tu numero de telefono y el tercer bloque tu direccion. Imprimir la cadena cada vez que agregamos un bloque.\n",
    "\n"
   ]
  },
  {
   "cell_type": "code",
   "execution_count": 50,
   "metadata": {},
   "outputs": [
    {
     "name": "stdout",
     "output_type": "stream",
     "text": [
      "{'index': 0, 'transacciones': ['Genesis'], 'timestamp': 1669899833.110183}\n",
      "{'index': 1, 'transacciones': ['Martin Quintana'], 'timestamp': 1669899836.643272}\n",
      "-----------\n",
      "{'index': 0, 'transacciones': ['Genesis'], 'timestamp': 1669899833.110183}\n",
      "{'index': 1, 'transacciones': ['Martin Quintana'], 'timestamp': 1669899836.643272}\n",
      "{'index': 2, 'transacciones': ['0973229057'], 'timestamp': 1669899851.9104772}\n",
      "-----------\n",
      "{'index': 0, 'transacciones': ['Genesis'], 'timestamp': 1669899833.110183}\n",
      "{'index': 1, 'transacciones': ['Martin Quintana'], 'timestamp': 1669899836.643272}\n",
      "{'index': 2, 'transacciones': ['0973229057'], 'timestamp': 1669899851.9104772}\n",
      "{'index': 3, 'transacciones': ['Av. Enfermeras del chaco'], 'timestamp': 1669899860.592897}\n",
      "-----------\n"
     ]
    }
   ],
   "source": [
    "cadena = Blockchain()\n",
    "for i in range(3):\n",
    "    transaccion = input(\"Ingrese el dato\")\n",
    "    cadena.agregar_transaccion(transaccion)\n",
    "    cadena.cerrar_bloque()\n",
    "    for j in range(len(cadena.chain)):\n",
    "        print(cadena.chain[j].__dict__)\n",
    "    print(\"-----------\")"
   ]
  },
  {
   "cell_type": "markdown",
   "metadata": {},
   "source": [
    "### Crear un server flask para enviar los datos para posteriormente hacer la transicion a Networking."
   ]
  },
  {
   "cell_type": "code",
   "execution_count": null,
   "metadata": {},
   "outputs": [],
   "source": [
    "from flask import Flask, jsonify, request\n",
    "from time import time\n",
    "\n",
    "class Bloque:\n",
    "    def __init__(self, index, transacciones,timestamp):\n",
    "        self.index = index\n",
    "        self.transacciones = transacciones\n",
    "        self.timestamp = timestamp\n",
    "\n",
    "class Blockchain: \n",
    "    def __init__(self):\n",
    "        self.transacciones_pendientes = []\n",
    "        self.chain = []\n",
    "        # Una vez creada la funcion pasamos a crear el bloque genesis.\n",
    "        self.crear_bloque_genesis()\n",
    "    \n",
    "    #Lo siguiente seria crear una funcion que nos permita crear el bloque genesis. \n",
    "    #Para llamarlo al iniciar la blockchain.\n",
    "    def crear_bloque_genesis(self):\n",
    "        genesis_block = Bloque(0, [\"Genesis\"], time())\n",
    "        self.chain.append(genesis_block)\n",
    "    \n",
    "    # Agregamos una propiedad a la cadena. \n",
    "    # Esta propiedad nos permite acceder al ultimo bloque\n",
    "    @property\n",
    "    def last_block(self):\n",
    "        return self.chain[-1]\n",
    "    \n",
    "    # Luego creamos una funcion que nos permita agregar bloques a la cadena\n",
    "    def agregar_bloque(self, block):\n",
    "        self.chain.append(block)\n",
    "        return True\n",
    "    \n",
    "    # Una funcion que agregue las transacciones al bloque que queremos agregar\n",
    "    def agregar_transaccion(self, transaction):\n",
    "                self.transacciones_pendientes.append(transaction)\n",
    "    \n",
    "    # Por ultimo lo que debemos hacer es cerrar un bloque, para ello creamos una funcion\n",
    "    # que cree un bloque con las transacciones pendientes y luego los agregue a la cadena de bloques.\n",
    "    def cerrar_bloque(self):\n",
    "        if not self.transacciones_pendientes:\n",
    "            return False\n",
    "        ultimo_bloque = self.last_block\n",
    "        nuevo_bloque = Bloque(ultimo_bloque.index + 1, self.transacciones_pendientes, time())\n",
    "        self.agregar_bloque(nuevo_bloque)\n",
    "        self.transacciones_pendientes = []\n",
    "        return nuevo_bloque\n",
    "\n",
    "\n",
    "app = Flask(__name__)\n",
    "\n",
    "cadena = Blockchain()\n",
    "\n",
    "@app.route('/cerrar', methods=['GET'])\n",
    "def mine():\n",
    "    bloque = cadena.cerrar_bloque()\n",
    "    response = {\n",
    "        'message': \"Nuevo Bloque Cerrado\",\n",
    "        'index': bloque.index,\n",
    "        'transactions': bloque.transacciones,\n",
    "        'timestamp': bloque.timestamp,\n",
    "    }\n",
    "    return jsonify(response), 200\n",
    "\n",
    "\n",
    "@app.route('/transaccion/new', methods=['POST'])\n",
    "def nueva_transaccion():\n",
    "    values = request.get_json()\n",
    "\n",
    "    # Create a new Transaction\n",
    "    index = cadena.agregar_transaccion(values['transaccion'])\n",
    "\n",
    "    response = {'message': f'La transaccion se a agregado correctamente.'}\n",
    "    return jsonify(response), 201\n",
    "\n",
    "\n",
    "@app.route('/chain', methods=['GET'])\n",
    "def full_chain():\n",
    "    chain = []\n",
    "    for i in cadena.chain:\n",
    "        chain.append(i.__dict__)\n",
    "    response = {\n",
    "        'chain': chain,\n",
    "        'length': len(chain),\n",
    "    }\n",
    "    return jsonify(response), 200\n",
    "\n",
    "if __name__ == '__main__':\n",
    "    app.run(debug=True, host='0.0.0.0', port=6000)"
   ]
  },
  {
   "cell_type": "markdown",
   "metadata": {},
   "source": [
    "## Networking Basics"
   ]
  },
  {
   "cell_type": "markdown",
   "metadata": {},
   "source": [
    "### Que es una red?\n",
    "\n",
    "### Capa 1\n",
    "\n",
    "Esta capa engloba los medios por el cual viajan los bits, (Fibra, cobre, aire)\n",
    "- Cables, algunos tipos, conectores, diafonia, cruce de cables.\n",
    "- Fibra, luz, dielectrico, velocidad de la luz\n",
    "- Wireless, TDMA, Carrier sense, distancia/potenica de transmision.\n",
    "\n",
    "### Capa 2\n",
    "\n",
    "- Capa de enlace de datos, encapsulacion, sincronizacion de cuadros, errores y flow control, mac addressing, packet or lan switching, Vlans.\n",
    "- Wireshark, ver movimiento\n",
    "\n",
    "### Capa 3\n",
    "\n",
    "- IP, que es?\n",
    "- DHCP\n",
    "- Ip Publico, IP privado\n",
    "- Router, que es? que hace?\n",
    "- Reenvio de puertos"
   ]
  }
 ],
 "metadata": {
  "kernelspec": {
   "display_name": "Python 3.10.6 64-bit",
   "language": "python",
   "name": "python3"
  },
  "language_info": {
   "codemirror_mode": {
    "name": "ipython",
    "version": 3
   },
   "file_extension": ".py",
   "mimetype": "text/x-python",
   "name": "python",
   "nbconvert_exporter": "python",
   "pygments_lexer": "ipython3",
   "version": "3.10.6"
  },
  "orig_nbformat": 4,
  "vscode": {
   "interpreter": {
    "hash": "b0fa6594d8f4cbf19f97940f81e996739fb7646882a419484c72d19e05852a7e"
   }
  }
 },
 "nbformat": 4,
 "nbformat_minor": 2
}
